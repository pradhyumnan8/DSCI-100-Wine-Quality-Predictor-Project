{
 "cells": [
  {
   "cell_type": "markdown",
   "id": "880983c5-04a1-448a-85ad-a8c9fde80e65",
   "metadata": {},
   "source": [
    "# Is it possible to determine white wine quality based on its attributes?\n"
   ]
  },
  {
   "cell_type": "markdown",
   "id": "05b9fab2-6dde-4328-9499-a88761006950",
   "metadata": {},
   "source": [
    "## Introduction:\n",
    "\n",
    "An alcoholic drink made from fermenting grapes or other fruits, wine has many attributes, including:\n",
    "\n",
    "- fixed acidity (g(tartaric acid)/dm^3)\n",
    "- volatile acidity (g(acetic acid)/dm^3)\n",
    "- citric acid (g/dm^3)\n",
    "- residual sugar (g/dm^3)\n",
    "- chlorides (g(sodium chloride)/dm^3)\n",
    "- free sulfur dioxide (mg/dm^3)\n",
    "- total sulfur dioxide (mg/dm^3)\n",
    "- density (g/cm^3)\n",
    "- pH\n",
    "- sulphates (g(potassium sulphate)/dm^3)\n",
    "- alcohol (vol.%)\n",
    "\n",
    "Quality, which is typically determined by professional wine tasters, could be affected by these attributes of wine. The goal of our project is to answer the following question: is it possible to determine white wine quality based on its attributes?\n",
    "\n",
    "To answer this question, we will be using the Wine Quality dataset from the UC Irvine Machine Learning Repository which can be accessed [here](https://archive.ics.uci.edu/ml/datasets/Wine+Quality). There are two datasets to choose from: red wine and white wine. We chose the white wine dataset since it has more observations than the red wine dataset. The dataset includes the attributes listed above and a quality rating from 0 to 10 for each wine."
   ]
  },
  {
   "cell_type": "markdown",
   "id": "1e9e082a-00eb-48f4-8e67-27db3a2f2c1e",
   "metadata": {},
   "source": [
    "## Preliminary exploratory data analysis:\n",
    "- Clean and wrangle your data into a tidy format\n",
    "- Using only training data, summarize the data in at least one table (this is exploratory data analysis). An example of a useful table could be one that reports the number of observations in each class, the means of the predictor variables you plan to use in your analysis and how many rows have missing data. \n",
    "- Using only training data, visualize the data with at least one plot relevant to the analysis you plan to do (this is exploratory data analysis). An example of a useful visualization could be one that compares the distributions of each of the predictor variables you plan to use in your analysis."
   ]
  },
  {
   "cell_type": "code",
   "execution_count": 7,
   "id": "d405c925-dca0-4299-9a11-35d1499744fe",
   "metadata": {},
   "outputs": [],
   "source": [
    "# Loading libraries required for notebook\n",
    "\n",
    "library(tidyverse)\n",
    "library(tidymodels)\n",
    "library(repr)\n",
    "options(repr.matrix.max.rows = 7)"
   ]
  },
  {
   "cell_type": "markdown",
   "id": "77a28835-6527-400e-98ca-e7e513377732",
   "metadata": {},
   "source": [
    "After loading required libraries, we read the dataset from the internet using R, convert quality to a factor, and remove spaces from column names."
   ]
  },
  {
   "cell_type": "code",
   "execution_count": 14,
   "id": "d709ccdf-19a9-42c5-8650-5ce250572546",
   "metadata": {},
   "outputs": [
    {
     "name": "stderr",
     "output_type": "stream",
     "text": [
      "\u001b[1mRows: \u001b[22m\u001b[34m4898\u001b[39m \u001b[1mColumns: \u001b[22m\u001b[34m12\u001b[39m\n",
      "\u001b[36m──\u001b[39m \u001b[1mColumn specification\u001b[22m \u001b[36m────────────────────────────────────────────────────────\u001b[39m\n",
      "\u001b[1mDelimiter:\u001b[22m \";\"\n",
      "\u001b[32mdbl\u001b[39m (12): fixed acidity, volatile acidity, citric acid, residual sugar, chlo...\n",
      "\n",
      "\u001b[36mℹ\u001b[39m Use `spec()` to retrieve the full column specification for this data.\n",
      "\u001b[36mℹ\u001b[39m Specify the column types or set `show_col_types = FALSE` to quiet this message.\n"
     ]
    },
    {
     "data": {
      "text/html": [
       "<table class=\"dataframe\">\n",
       "<caption>A tibble: 4898 × 12</caption>\n",
       "<thead>\n",
       "\t<tr><th scope=col>fixed.acidity</th><th scope=col>volatile.acidity</th><th scope=col>citric.acid</th><th scope=col>residual.sugar</th><th scope=col>chlorides</th><th scope=col>free.sulfur.dioxide</th><th scope=col>total.sulfur.dioxide</th><th scope=col>density</th><th scope=col>pH</th><th scope=col>sulphates</th><th scope=col>alcohol</th><th scope=col>quality</th></tr>\n",
       "\t<tr><th scope=col>&lt;dbl&gt;</th><th scope=col>&lt;dbl&gt;</th><th scope=col>&lt;dbl&gt;</th><th scope=col>&lt;dbl&gt;</th><th scope=col>&lt;dbl&gt;</th><th scope=col>&lt;dbl&gt;</th><th scope=col>&lt;dbl&gt;</th><th scope=col>&lt;dbl&gt;</th><th scope=col>&lt;dbl&gt;</th><th scope=col>&lt;dbl&gt;</th><th scope=col>&lt;dbl&gt;</th><th scope=col>&lt;fct&gt;</th></tr>\n",
       "</thead>\n",
       "<tbody>\n",
       "\t<tr><td>7.0</td><td>0.27</td><td>0.36</td><td>20.7</td><td>0.045</td><td>45</td><td>170</td><td>1.0010</td><td>3.00</td><td>0.45</td><td> 8.8</td><td>6</td></tr>\n",
       "\t<tr><td>6.3</td><td>0.30</td><td>0.34</td><td> 1.6</td><td>0.049</td><td>14</td><td>132</td><td>0.9940</td><td>3.30</td><td>0.49</td><td> 9.5</td><td>6</td></tr>\n",
       "\t<tr><td>8.1</td><td>0.28</td><td>0.40</td><td> 6.9</td><td>0.050</td><td>30</td><td> 97</td><td>0.9951</td><td>3.26</td><td>0.44</td><td>10.1</td><td>6</td></tr>\n",
       "\t<tr><td>7.2</td><td>0.23</td><td>0.32</td><td> 8.5</td><td>0.058</td><td>47</td><td>186</td><td>0.9956</td><td>3.19</td><td>0.40</td><td> 9.9</td><td>6</td></tr>\n",
       "\t<tr><td>⋮</td><td>⋮</td><td>⋮</td><td>⋮</td><td>⋮</td><td>⋮</td><td>⋮</td><td>⋮</td><td>⋮</td><td>⋮</td><td>⋮</td><td>⋮</td></tr>\n",
       "\t<tr><td>6.5</td><td>0.24</td><td>0.19</td><td>1.2</td><td>0.041</td><td>30</td><td>111</td><td>0.99254</td><td>2.99</td><td>0.46</td><td> 9.4</td><td>6</td></tr>\n",
       "\t<tr><td>5.5</td><td>0.29</td><td>0.30</td><td>1.1</td><td>0.022</td><td>20</td><td>110</td><td>0.98869</td><td>3.34</td><td>0.38</td><td>12.8</td><td>7</td></tr>\n",
       "\t<tr><td>6.0</td><td>0.21</td><td>0.38</td><td>0.8</td><td>0.020</td><td>22</td><td> 98</td><td>0.98941</td><td>3.26</td><td>0.32</td><td>11.8</td><td>6</td></tr>\n",
       "</tbody>\n",
       "</table>\n"
      ],
      "text/latex": [
       "A tibble: 4898 × 12\n",
       "\\begin{tabular}{llllllllllll}\n",
       " fixed.acidity & volatile.acidity & citric.acid & residual.sugar & chlorides & free.sulfur.dioxide & total.sulfur.dioxide & density & pH & sulphates & alcohol & quality\\\\\n",
       " <dbl> & <dbl> & <dbl> & <dbl> & <dbl> & <dbl> & <dbl> & <dbl> & <dbl> & <dbl> & <dbl> & <fct>\\\\\n",
       "\\hline\n",
       "\t 7.0 & 0.27 & 0.36 & 20.7 & 0.045 & 45 & 170 & 1.0010 & 3.00 & 0.45 &  8.8 & 6\\\\\n",
       "\t 6.3 & 0.30 & 0.34 &  1.6 & 0.049 & 14 & 132 & 0.9940 & 3.30 & 0.49 &  9.5 & 6\\\\\n",
       "\t 8.1 & 0.28 & 0.40 &  6.9 & 0.050 & 30 &  97 & 0.9951 & 3.26 & 0.44 & 10.1 & 6\\\\\n",
       "\t 7.2 & 0.23 & 0.32 &  8.5 & 0.058 & 47 & 186 & 0.9956 & 3.19 & 0.40 &  9.9 & 6\\\\\n",
       "\t ⋮ & ⋮ & ⋮ & ⋮ & ⋮ & ⋮ & ⋮ & ⋮ & ⋮ & ⋮ & ⋮ & ⋮\\\\\n",
       "\t 6.5 & 0.24 & 0.19 & 1.2 & 0.041 & 30 & 111 & 0.99254 & 2.99 & 0.46 &  9.4 & 6\\\\\n",
       "\t 5.5 & 0.29 & 0.30 & 1.1 & 0.022 & 20 & 110 & 0.98869 & 3.34 & 0.38 & 12.8 & 7\\\\\n",
       "\t 6.0 & 0.21 & 0.38 & 0.8 & 0.020 & 22 &  98 & 0.98941 & 3.26 & 0.32 & 11.8 & 6\\\\\n",
       "\\end{tabular}\n"
      ],
      "text/markdown": [
       "\n",
       "A tibble: 4898 × 12\n",
       "\n",
       "| fixed.acidity &lt;dbl&gt; | volatile.acidity &lt;dbl&gt; | citric.acid &lt;dbl&gt; | residual.sugar &lt;dbl&gt; | chlorides &lt;dbl&gt; | free.sulfur.dioxide &lt;dbl&gt; | total.sulfur.dioxide &lt;dbl&gt; | density &lt;dbl&gt; | pH &lt;dbl&gt; | sulphates &lt;dbl&gt; | alcohol &lt;dbl&gt; | quality &lt;fct&gt; |\n",
       "|---|---|---|---|---|---|---|---|---|---|---|---|\n",
       "| 7.0 | 0.27 | 0.36 | 20.7 | 0.045 | 45 | 170 | 1.0010 | 3.00 | 0.45 |  8.8 | 6 |\n",
       "| 6.3 | 0.30 | 0.34 |  1.6 | 0.049 | 14 | 132 | 0.9940 | 3.30 | 0.49 |  9.5 | 6 |\n",
       "| 8.1 | 0.28 | 0.40 |  6.9 | 0.050 | 30 |  97 | 0.9951 | 3.26 | 0.44 | 10.1 | 6 |\n",
       "| 7.2 | 0.23 | 0.32 |  8.5 | 0.058 | 47 | 186 | 0.9956 | 3.19 | 0.40 |  9.9 | 6 |\n",
       "| ⋮ | ⋮ | ⋮ | ⋮ | ⋮ | ⋮ | ⋮ | ⋮ | ⋮ | ⋮ | ⋮ | ⋮ |\n",
       "| 6.5 | 0.24 | 0.19 | 1.2 | 0.041 | 30 | 111 | 0.99254 | 2.99 | 0.46 |  9.4 | 6 |\n",
       "| 5.5 | 0.29 | 0.30 | 1.1 | 0.022 | 20 | 110 | 0.98869 | 3.34 | 0.38 | 12.8 | 7 |\n",
       "| 6.0 | 0.21 | 0.38 | 0.8 | 0.020 | 22 |  98 | 0.98941 | 3.26 | 0.32 | 11.8 | 6 |\n",
       "\n"
      ],
      "text/plain": [
       "     fixed.acidity volatile.acidity citric.acid residual.sugar chlorides\n",
       "1    7.0           0.27             0.36        20.7           0.045    \n",
       "2    6.3           0.30             0.34         1.6           0.049    \n",
       "3    8.1           0.28             0.40         6.9           0.050    \n",
       "4    7.2           0.23             0.32         8.5           0.058    \n",
       "⋮    ⋮             ⋮                ⋮           ⋮              ⋮        \n",
       "4896 6.5           0.24             0.19        1.2            0.041    \n",
       "4897 5.5           0.29             0.30        1.1            0.022    \n",
       "4898 6.0           0.21             0.38        0.8            0.020    \n",
       "     free.sulfur.dioxide total.sulfur.dioxide density pH   sulphates alcohol\n",
       "1    45                  170                  1.0010  3.00 0.45       8.8   \n",
       "2    14                  132                  0.9940  3.30 0.49       9.5   \n",
       "3    30                   97                  0.9951  3.26 0.44      10.1   \n",
       "4    47                  186                  0.9956  3.19 0.40       9.9   \n",
       "⋮    ⋮                   ⋮                    ⋮       ⋮    ⋮         ⋮      \n",
       "4896 30                  111                  0.99254 2.99 0.46       9.4   \n",
       "4897 20                  110                  0.98869 3.34 0.38      12.8   \n",
       "4898 22                   98                  0.98941 3.26 0.32      11.8   \n",
       "     quality\n",
       "1    6      \n",
       "2    6      \n",
       "3    6      \n",
       "4    6      \n",
       "⋮    ⋮      \n",
       "4896 6      \n",
       "4897 7      \n",
       "4898 6      "
      ]
     },
     "metadata": {},
     "output_type": "display_data"
    }
   ],
   "source": [
    "wine_data <- read_delim(\"https://archive.ics.uci.edu/ml/machine-learning-databases/wine-quality/winequality-white.csv\", delim = \";\") |>\n",
    "    mutate(quality = as.factor(quality))\n",
    "\n",
    "colnames(wine_data) <- make.names(colnames(wine_data))\n",
    "\n",
    "wine_data"
   ]
  },
  {
   "cell_type": "markdown",
   "id": "7a3e0c27-7dc1-4e83-9612-bd6d8caf3864",
   "metadata": {},
   "source": [
    "We set the seed so that ```initial_split``` produces the same result every time, and split the data such that 90% of the data is for training, while 10% is for testing."
   ]
  },
  {
   "cell_type": "code",
   "execution_count": 15,
   "id": "a01cbf88-9319-4969-9885-9133e738efd3",
   "metadata": {},
   "outputs": [],
   "source": [
    "set.seed(1234) # Setting seed for reproducibility\n",
    "\n",
    "wine_split <- initial_split(wine_data, prop = 0.90, strata = quality)\n",
    "wine_train <- training(wine_split)\n",
    "wine_test <- testing(wine_split) "
   ]
  },
  {
   "cell_type": "markdown",
   "id": "4bdc9607-732b-464a-9e35-e0119dc902c6",
   "metadata": {},
   "source": [
    "The table shows the number of observations for each class using ```group_by``` and ```summarize``` in the training dataset."
   ]
  },
  {
   "cell_type": "code",
   "execution_count": 23,
   "id": "001e5b19-c7f9-442e-9766-0e0c5804646c",
   "metadata": {},
   "outputs": [
    {
     "data": {
      "text/html": [
       "<table class=\"dataframe\">\n",
       "<caption>A tibble: 7 × 2</caption>\n",
       "<thead>\n",
       "\t<tr><th scope=col>quality</th><th scope=col>count</th></tr>\n",
       "\t<tr><th scope=col>&lt;fct&gt;</th><th scope=col>&lt;int&gt;</th></tr>\n",
       "</thead>\n",
       "<tbody>\n",
       "\t<tr><td>3</td><td>  17</td></tr>\n",
       "\t<tr><td>4</td><td> 145</td></tr>\n",
       "\t<tr><td>5</td><td>1313</td></tr>\n",
       "\t<tr><td>6</td><td>1981</td></tr>\n",
       "\t<tr><td>7</td><td> 790</td></tr>\n",
       "\t<tr><td>8</td><td> 157</td></tr>\n",
       "\t<tr><td>9</td><td>   4</td></tr>\n",
       "</tbody>\n",
       "</table>\n"
      ],
      "text/latex": [
       "A tibble: 7 × 2\n",
       "\\begin{tabular}{ll}\n",
       " quality & count\\\\\n",
       " <fct> & <int>\\\\\n",
       "\\hline\n",
       "\t 3 &   17\\\\\n",
       "\t 4 &  145\\\\\n",
       "\t 5 & 1313\\\\\n",
       "\t 6 & 1981\\\\\n",
       "\t 7 &  790\\\\\n",
       "\t 8 &  157\\\\\n",
       "\t 9 &    4\\\\\n",
       "\\end{tabular}\n"
      ],
      "text/markdown": [
       "\n",
       "A tibble: 7 × 2\n",
       "\n",
       "| quality &lt;fct&gt; | count &lt;int&gt; |\n",
       "|---|---|\n",
       "| 3 |   17 |\n",
       "| 4 |  145 |\n",
       "| 5 | 1313 |\n",
       "| 6 | 1981 |\n",
       "| 7 |  790 |\n",
       "| 8 |  157 |\n",
       "| 9 |    4 |\n",
       "\n"
      ],
      "text/plain": [
       "  quality count\n",
       "1 3         17 \n",
       "2 4        145 \n",
       "3 5       1313 \n",
       "4 6       1981 \n",
       "5 7        790 \n",
       "6 8        157 \n",
       "7 9          4 "
      ]
     },
     "metadata": {},
     "output_type": "display_data"
    }
   ],
   "source": [
    "observation_table <- wine_train |>\n",
    "    group_by(quality) |>\n",
    "    summarize(count = n())\n",
    "\n",
    "observation_table"
   ]
  },
  {
   "cell_type": "code",
   "execution_count": 24,
   "id": "8a71995d-1e89-4bf6-af96-483c698b6a81",
   "metadata": {},
   "outputs": [
    {
     "data": {
      "text/html": [
       "<table class=\"dataframe\">\n",
       "<caption>A tibble: 1 × 11</caption>\n",
       "<thead>\n",
       "\t<tr><th scope=col>fixed.acidity</th><th scope=col>volatile.acidity</th><th scope=col>citric.acid</th><th scope=col>residual.sugar</th><th scope=col>chlorides</th><th scope=col>free.sulfur.dioxide</th><th scope=col>total.sulfur.dioxide</th><th scope=col>density</th><th scope=col>pH</th><th scope=col>sulphates</th><th scope=col>alcohol</th></tr>\n",
       "\t<tr><th scope=col>&lt;dbl&gt;</th><th scope=col>&lt;dbl&gt;</th><th scope=col>&lt;dbl&gt;</th><th scope=col>&lt;dbl&gt;</th><th scope=col>&lt;dbl&gt;</th><th scope=col>&lt;dbl&gt;</th><th scope=col>&lt;dbl&gt;</th><th scope=col>&lt;dbl&gt;</th><th scope=col>&lt;dbl&gt;</th><th scope=col>&lt;dbl&gt;</th><th scope=col>&lt;dbl&gt;</th></tr>\n",
       "</thead>\n",
       "<tbody>\n",
       "\t<tr><td>6.853472</td><td>0.2795598</td><td>0.3344679</td><td>6.425051</td><td>0.04592308</td><td>35.27275</td><td>138.6197</td><td>0.9940456</td><td>3.18806</td><td>0.4891967</td><td>10.51013</td></tr>\n",
       "</tbody>\n",
       "</table>\n"
      ],
      "text/latex": [
       "A tibble: 1 × 11\n",
       "\\begin{tabular}{lllllllllll}\n",
       " fixed.acidity & volatile.acidity & citric.acid & residual.sugar & chlorides & free.sulfur.dioxide & total.sulfur.dioxide & density & pH & sulphates & alcohol\\\\\n",
       " <dbl> & <dbl> & <dbl> & <dbl> & <dbl> & <dbl> & <dbl> & <dbl> & <dbl> & <dbl> & <dbl>\\\\\n",
       "\\hline\n",
       "\t 6.853472 & 0.2795598 & 0.3344679 & 6.425051 & 0.04592308 & 35.27275 & 138.6197 & 0.9940456 & 3.18806 & 0.4891967 & 10.51013\\\\\n",
       "\\end{tabular}\n"
      ],
      "text/markdown": [
       "\n",
       "A tibble: 1 × 11\n",
       "\n",
       "| fixed.acidity &lt;dbl&gt; | volatile.acidity &lt;dbl&gt; | citric.acid &lt;dbl&gt; | residual.sugar &lt;dbl&gt; | chlorides &lt;dbl&gt; | free.sulfur.dioxide &lt;dbl&gt; | total.sulfur.dioxide &lt;dbl&gt; | density &lt;dbl&gt; | pH &lt;dbl&gt; | sulphates &lt;dbl&gt; | alcohol &lt;dbl&gt; |\n",
       "|---|---|---|---|---|---|---|---|---|---|---|\n",
       "| 6.853472 | 0.2795598 | 0.3344679 | 6.425051 | 0.04592308 | 35.27275 | 138.6197 | 0.9940456 | 3.18806 | 0.4891967 | 10.51013 |\n",
       "\n"
      ],
      "text/plain": [
       "  fixed.acidity volatile.acidity citric.acid residual.sugar chlorides \n",
       "1 6.853472      0.2795598        0.3344679   6.425051       0.04592308\n",
       "  free.sulfur.dioxide total.sulfur.dioxide density   pH      sulphates alcohol \n",
       "1 35.27275            138.6197             0.9940456 3.18806 0.4891967 10.51013"
      ]
     },
     "metadata": {},
     "output_type": "display_data"
    }
   ],
   "source": [
    "pred_means <- wine_train |>\n",
    "    select(-quality) |>\n",
    "    map_df(mean)\n",
    "\n",
    "pred_means"
   ]
  },
  {
   "cell_type": "code",
   "execution_count": 25,
   "id": "3e4a4372-c891-454f-b23a-34d64f91d5e0",
   "metadata": {},
   "outputs": [
    {
     "data": {
      "text/html": [
       "0"
      ],
      "text/latex": [
       "0"
      ],
      "text/markdown": [
       "0"
      ],
      "text/plain": [
       "[1] 0"
      ]
     },
     "metadata": {},
     "output_type": "display_data"
    }
   ],
   "source": [
    "sum(is.na(wine_train))"
   ]
  },
  {
   "cell_type": "markdown",
   "id": "7587e015-b64c-4013-badc-8ea5cabcd2ae",
   "metadata": {},
   "source": [
    "## Methods:\n",
    "\n",
    "- Explain how you will conduct either your data analysis and which variables/columns you will use. Note - you do not need to use all variables/columns that exist in the raw data set. In fact, that's often not a good idea. For each variable think: is this a useful variable for prediction?\n",
    "- Describe at least one way that you will visualize the results"
   ]
  },
  {
   "cell_type": "markdown",
   "id": "9f985910-0d2d-422e-89e8-5aa4780a16fa",
   "metadata": {
    "tags": []
   },
   "source": [
    "- We will conduct data analysis by....\n",
    "- The columns we will use for this project are fixed acidity, volatile acidity, residual sugars and alcohol as our predictors and quality as our target variable. \n",
    "- We will visualize the results in scatter and line plots?"
   ]
  },
  {
   "cell_type": "markdown",
   "id": "5fac6281-05d2-477a-8b76-744add119cff",
   "metadata": {},
   "source": [
    "## Expected outcomes and significance:\n",
    "\n",
    "- What do you expect to find?\n",
    "- What impact could such findings have?\n",
    "- What future questions could this lead to?"
   ]
  },
  {
   "cell_type": "markdown",
   "id": "40815162-b995-401d-95dd-13a2edd8ceed",
   "metadata": {},
   "source": [
    "We expect to find if white wine quality can be determined based on our chosen predictors. These findings could help white wine manufacturers create better quality white wine by knowing which components of it affect its quality. It could also help consumers know which components of their white wine affects its quality when choosing wines to buy. This could lead to questions about if other components of wine, that were not included in the raw data set could affect white wine quality, such as type of grapes used. It could also lead to questions about if external factors may affect white wine quality such as environment and harvesting, fermentation processes."
   ]
  }
 ],
 "metadata": {
  "kernelspec": {
   "display_name": "R",
   "language": "R",
   "name": "ir"
  },
  "language_info": {
   "codemirror_mode": "r",
   "file_extension": ".r",
   "mimetype": "text/x-r-source",
   "name": "R",
   "pygments_lexer": "r",
   "version": "4.1.3"
  }
 },
 "nbformat": 4,
 "nbformat_minor": 5
}
